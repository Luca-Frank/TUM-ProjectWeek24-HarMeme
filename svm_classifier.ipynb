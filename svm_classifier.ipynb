{
 "cells": [
  {
   "cell_type": "code",
   "outputs": [],
   "source": [
    "import pandas as pd\n",
    "import numpy as np\n",
    "from sklearn.preprocessing import LabelEncoder\n",
    "from collections import defaultdict\n",
    "from nltk.corpus import wordnet as wn\n",
    "from sklearn.feature_extraction.text import TfidfVectorizer\n",
    "from sklearn import model_selection, naive_bayes, svm\n",
    "from sklearn.metrics import accuracy_score"
   ],
   "metadata": {
    "collapsed": false,
    "ExecuteTime": {
     "end_time": "2024-01-09T16:11:14.858615Z",
     "start_time": "2024-01-09T16:11:14.586093Z"
    }
   },
   "id": "263436132a097b50",
   "execution_count": 1
  },
  {
   "cell_type": "code",
   "outputs": [],
   "source": [
    "np.random.seed(500)"
   ],
   "metadata": {
    "collapsed": false,
    "ExecuteTime": {
     "end_time": "2024-01-09T16:11:14.861035Z",
     "start_time": "2024-01-09T16:11:14.859507Z"
    }
   },
   "id": "c40c251944d1a8e7",
   "execution_count": 2
  },
  {
   "cell_type": "code",
   "outputs": [
    {
     "name": "stderr",
     "output_type": "stream",
     "text": [
      "[nltk_data] Downloading package averaged_perceptron_tagger to\n",
      "[nltk_data]     /Users/michaeld./nltk_data...\n",
      "[nltk_data]   Package averaged_perceptron_tagger is already up-to-\n",
      "[nltk_data]       date!\n"
     ]
    },
    {
     "data": {
      "text/plain": "True"
     },
     "execution_count": 3,
     "metadata": {},
     "output_type": "execute_result"
    }
   ],
   "source": [
    "import ssl\n",
    "import nltk\n",
    "\n",
    "# Source: https://github.com/gunthercox/ChatterBot/issues/930#issuecomment-322111087 \n",
    "# This is to fix the SSL error when downloading nltk data, which is a known issue on Mac OS\n",
    "try:\n",
    "    _create_unverified_https_context = ssl._create_unverified_context\n",
    "except AttributeError:\n",
    "    pass\n",
    "else:\n",
    "    ssl._create_default_https_context = _create_unverified_https_context\n",
    "    \n",
    "nltk.download('averaged_perceptron_tagger')"
   ],
   "metadata": {
    "collapsed": false,
    "ExecuteTime": {
     "end_time": "2024-01-09T16:11:15.020158Z",
     "start_time": "2024-01-09T16:11:14.861708Z"
    }
   },
   "id": "bc7367e1ef0685ac",
   "execution_count": 3
  },
  {
   "cell_type": "code",
   "outputs": [
    {
     "name": "stdout",
     "output_type": "stream",
     "text": [
      "Index(['Unnamed: 0', 'id', 'image', 'labels', 'text', 'processed_text',\n",
      "       'processed_text_alt', 'binary_labels'],\n",
      "      dtype='object')\n"
     ]
    }
   ],
   "source": [
    "corpus = pd.read_csv(r\"data_train_preprocessed.csv\", encoding='latin-1', keep_default_na=False)\n",
    "\n",
    "tag_map = defaultdict(lambda : wn.NOUN)\n",
    "tag_map['J'] = wn.ADJ\n",
    "tag_map['V'] = wn.VERB\n",
    "tag_map['R'] = wn.ADV\n",
    "print(corpus.keys())"
   ],
   "metadata": {
    "collapsed": false,
    "ExecuteTime": {
     "end_time": "2024-01-09T16:11:15.533629Z",
     "start_time": "2024-01-09T16:11:15.021692Z"
    }
   },
   "id": "991d8417e88074c3",
   "execution_count": 4
  },
  {
   "cell_type": "code",
   "outputs": [],
   "source": [
    "train_x, test_x, train_y, test_y = model_selection.train_test_split(corpus['processed_text_alt'],corpus['binary_labels'],test_size=0.3)"
   ],
   "metadata": {
    "collapsed": false,
    "ExecuteTime": {
     "end_time": "2024-01-09T16:11:15.537056Z",
     "start_time": "2024-01-09T16:11:15.535530Z"
    }
   },
   "id": "6f244f56dbda5a10",
   "execution_count": 5
  },
  {
   "cell_type": "code",
   "outputs": [],
   "source": [
    "encoder = LabelEncoder()\n",
    "train_y = encoder.fit_transform(train_y)\n",
    "test_y = encoder.fit_transform(test_y)"
   ],
   "metadata": {
    "collapsed": false,
    "ExecuteTime": {
     "end_time": "2024-01-09T16:11:15.539679Z",
     "start_time": "2024-01-09T16:11:15.538239Z"
    }
   },
   "id": "a0fcbfef3f21b4ad",
   "execution_count": 6
  },
  {
   "cell_type": "code",
   "outputs": [],
   "source": [
    "Tfidf_vect = TfidfVectorizer(max_features=2000)\n",
    "Tfidf_vect.fit(corpus['processed_text_alt'])\n",
    "train_x_Tfidf = Tfidf_vect.transform(train_x)\n",
    "test_x_Tfidf = Tfidf_vect.transform(test_x)"
   ],
   "metadata": {
    "collapsed": false,
    "ExecuteTime": {
     "end_time": "2024-01-09T16:11:15.572746Z",
     "start_time": "2024-01-09T16:11:15.551733Z"
    }
   },
   "id": "16e0c9d7b9b9385c",
   "execution_count": 7
  },
  {
   "cell_type": "code",
   "outputs": [
    {
     "name": "stdout",
     "output_type": "stream",
     "text": [
      "{'bernie': 217, 'elizabeth': 577, 'issue': 939, 'matter': 1110, 'make': 1085, 'meme': 1128, 'brexit': 265, 'october': 1239, 'order': 1263, 'ensure': 595, 'deal': 472, 'everyone': 617, 'using': 1858, 'new': 1207, 'prime': 1385, 'minister': 1153, 'take': 1722, 'one': 1256, 'month': 1172, 'applause': 154, 'thai': 1750, 'hong': 860, 'kong': 993, 'get': 739, 'hurt': 881, 'difference': 499, 'stay': 1673, 'wall': 1885, 'mask': 1103, 'protect': 1404, 'virus': 1872, 'say': 1527, 'something': 1629, 'made': 1078, 'china': 343, 'best': 218, 'candidate': 298, 'ja': 944, '2020': 30, 'joe': 956, 'biden': 222, 'harris': 818, 'sander': 1519, 'tiktok': 1771, 'mandatory': 1092, 'event': 612, 'president': 1375, 'trump': 1818, 'people': 1314, 'fed': 667, 'covid': 430, 'vou': 1877, 'breaking': 260, 'news': 1208, 'el': 572, 'ch': 321, 'bought': 252, 'seen': 1546, 'outside': 1278, 'store': 1684, 'wearing': 1907, 'man': 1089, 'donald': 521, 'went': 1924, 'victoria': 1867, 'secret': 1543, 'customer': 449, 'han': 806, 'come': 376, '11': 3, 'imgflip': 905, 'team': 1738, 'let': 1023, 'go': 753, 'save': 1525, 'help': 832, 'child': 341, 'find': 679, 'right': 1484, 'halloween': 804, 'costume': 415, 'hantavirus': 811, 'discovered': 510, 'whole': 1934, 'world': 1960, 'finally': 678, 'realize': 1447, '1820': 15, '1920': 18, 'massive': 1106, 'plague': 1335, 'outbreak': 1275, 'spreading': 1658, 'wuhan': 1974, 'corona': 406, 'dy': 554, 'ca': 283, 'worse': 1965, 'testing': 1746, 'positive': 1358, 'coronavirus': 408, 'dr': 531, 'grayfang': 782, 'ha': 796, 'getting': 740, 'food': 699, 'alcohol': 104, 'quarantine': 1419, 'ne': 1197, 'fe': 663, 'ten': 1742, 'leave': 1017, 'swine': 1716, 'flu': 694, 'would': 1967, 'win': 1939, 'thanos': 1753, 'boy': 254, 'sorry': 1634, 'guy': 794, 'built': 272, 'almost': 112, 'mexican': 1138, 'case': 307, 'point': 1348, 'may': 1111, 'killing': 980, 'karen': 972, 'play': 1342, 'safe': 1514, 'worry': 1964, 'border': 245, 'en': 587, 'shut': 1581, '98': 64, 'open': 1259, 'close': 361, 'pal': 1287, 'ended': 589, 'reporter': 1471, 'calling': 288, 'chinese': 344, 'came': 290, 'think': 1758, 'thats': 1754, 'little': 1044, 'racist': 1428, 'actual': 76, 'footage': 702, '12': 4, 'day': 466, 'learning': 1015, 'student': 1691, 'start': 1668, 'coughing': 418, 'time': 1772, 'hmm': 848, 'internet': 933, 'reported': 1470, 'pm': 1346, '18': 14, 'mar': 1095, '20': 26, 'like': 1034, 'exist': 626, 'oh': 1247, 'far': 654, 'away': 186, 'later': 1004, 'move': 1180, 'isolation': 938, 'face': 642, 'glove': 752, 'half': 803, 'century': 319, 'ore': 1266, 'good': 763, 'sheeple': 1567, 'ng': 1210, 'kung': 995, 'government': 770, 'inside': 927, 'population': 1355, 'catch': 309, 'dat': 463, 'phil': 1322, 'free': 712, 'trip': 1811, 'left': 1020, 'public': 1411, 'health': 824, 'crisis': 439, 'via': 1865, 'cnn': 366, 'feb': 665, '25': 38, 'replying': 1468, 'died': 498, 'trying': 1822, 'mother': 1177, 'dotors': 528, 'working': 1959, 'life': 1029, 'goa': 754, 'fact': 646, 'per': 1315, 'cdc': 315, 'death': 475, 'mean': 1114, 'le': 1010, 'american': 121, 'even': 611, 'contracted': 396, 'also': 115, 'survive': 1710, 'rate': 1438, 'see': 1544, 'try': 1821, 'sharing': 1566, 'instead': 929, 'recovery': 1453, 'bill': 226, 'include': 913, '10': 1, 'big': 224, 'need': 1201, 'believe': 216, 'reality': 1446, 'real': 1444, 'worker': 1957, 'march': 1096, 'un': 1845, 'ana': 127, 'lockdown': 1050, 'barack': 200, 'obama': 1235, 'job': 955, 'administration': 81, 'type': 1838, 'communist': 381, 'official': 1245, 'confirmed': 389, 'mystery': 1186, 'spread': 1657, 'human': 877, 'playing': 1344, 'area': 160, '51': 59, 'computer': 386, 'pandemic': 1289, 'found': 710, 'friend': 716, 'sally': 1518, '1720': 13, 'coincidence': 371, 'common': 380, 'orange': 1262, 'early': 558, 'november': 1231, 'occupy': 1236, 'speech': 1644, 'united': 1848, 'state': 1671, 'comment': 379, 'chance': 327, 'false': 651, 'alter': 116, 'experimental': 632, 'vaccine': 1861, 'corrupt': 413, 'photo': 1324, 'love': 1066, 'america': 120, 'hate': 819, 'liberal': 1026, 'pfizer': 1321, 'home': 855, 'sweatpants': 1714, 'bad': 191, 'remember': 1461, 'lost': 1064, 'baby': 188, 'dressed': 536, 'feeling': 670, 'great': 783, 'thinking': 1759, 'end': 588, 'soon': 1633, 'thing': 1757, 'ice': 887, 'ge': 734, 'live': 1045, 'hou': 869, 'response': 1475, 'corporate': 411, 'picture': 1329, 'white': 1933, 'hc': 821, 'washington': 1896, 'special': 1642, 'report': 1469, 'house': 871, 'task': 1730, 'force': 704, 'latest': 1005, 'update': 1851, 'society': 1623, 'wondering': 1952, 'much': 1181, 'medium': 1120, 'control': 398, 'vaccinating': 1860, 'cattle': 311, 'year': 1983, 'yet': 1986, 'tell': 1739, 'gunna': 793, 'kill': 978, 'buy': 278, 'dos': 527, 'ml': 1158, 'bovine': 253, 'use': 1856, 'contact': 394, 'introvert': 935, 'lighten': 1033, 'ban': 195, 'online': 1257, 'foreigner': 705, 'cor': 405, 'never': 1206, 'going': 757, 'th': 1749, 'patient': 1303, 'stop': 1683, 'spanish': 1640, 'funny': 724, 'suddenly': 1698, 'kid': 976, 'pizza': 1333, 'kya': 996, 'cat': 308, 'call': 286, 'king': 985, 'according': 70, 'took': 1793, 'mllions': 1159, 'infected': 920, 'declare': 479, 'hini': 844, 'emergency': 582, 'declared': 480, 'safety': 1515, 'measure': 1118, 'place': 1334, 'single': 1592, '260': 40, 'share': 1565, 'hiding': 839, 'zombie': 1997, 'feel': 669, 'starting': 1670, 'turn': 1826, 'want': 1888, 'group': 786, 'de': 469, 'dude': 549, 'covid19': 431, 'please': 1345, 'whisper': 1931, 'put': 1414, 'give': 747, 'cancer': 297, 'despite': 489, 'listening': 1040, 'scientist': 1533, 'smoke': 1610, 'longer': 1058, 'holiday': 854, 'james': 946, '13': 5, 'last': 1002, 'stand': 1664, 'folk': 696, 'gone': 761, 'vote': 1876, '24k': 37, 'keep': 974, 'based': 203, 'putting': 1416, 'arrest': 163, 'making': 1087, 'taking': 1724, 'occurred': 1237, 'brought': 271, 'release': 1460, 'trial': 1809, 'said': 1516, 'always': 117, 'sit': 1595, 'way': 1902, 'social': 1620, 'distancing': 515, 'jones': 963, 'banned': 198, 'india': 915, 'meanwhile': 1117, 'indian': 916, 'parent': 1295, 'wo': 1949, 'din': 504, 'aa': 65, 'hi': 838, 'british': 268, 'queen': 1421, '93': 63, 'expecting': 631, 'wea': 1903, 'tre': 1806, 'ate': 175, 'justa': 971, 'junt': 970, 'suicide': 1699, 'blame': 234, 'rest': 1476, 'today': 1778, 'message': 1136, 'tap': 1728, 'info': 924, 'created': 437, 'ever': 613, 'wonder': 1951, 'extra': 637, 'vo': 1875, 'drink': 539, 'scan': 1529, 'russian': 1509, 'war': 1890, 'first': 686, 'break': 258, 'tam': 1727, 'speed': 1645, 'na': 1187, 'oct': 1238, 'boris': 247, 'johnson': 958, 'offering': 1242, 'head': 822, 'andy': 130, 'could': 419, 'cost': 414, 'pound': 1364, 'ta': 1720, '34': 49, 'test': 1744, 'die': 497, 'country': 422, 'breath': 262, 'wy': 1976, 'wake': 1881, 'infect': 919, 'sars': 1521, 'yo': 1988, 'game': 727, 'crazy': 436, 'shit': 1572, 'happens': 815, 'bro': 269, 'know': 990, 'wind': 1941, 'pa': 1282, 'nd': 1196, 'eat': 561, 'scared': 1530, 'dumb': 551, 'norton': 1223, 'antivirus': 139, 'putin': 1415, 'well': 1922, 'done': 522, 'proud': 1407, 'joking': 961, 'happening': 814, 'disease': 511, 'reaction': 1440, 'broke': 270, 'fix': 689, 'maybe': 1112, 'sort': 1635, 'okay': 1250, 'gif': 743, 'yesterday': 1985, 'ji': 953, 'guard': 789, 'tested': 1745, 'om': 1253, '200': 27, 'originated': 1268, 'evidence': 621, 'wil': 1937, 'russia': 1508, 'necessary': 1200, 'stage': 1663, 'drug': 545, 'epidemic': 599, 'hope': 863, 'space': 1638, 'without': 1947, '2019': 29, 'usa': 1855, 'il': 899, 'global': 751, 'dead': 470, 'simulation': 1588, 'hr': 872, 'tom': 1788, 'hank': 810, 'blood': 239, 'used': 1857, 'develop': 494, 'normal': 1219, 'staying': 1674, 'travel': 1803, 'around': 162, 'city': 354, 'light': 1032, 'thousand': 1762, 'doctor': 517, 'saying': 1528, 'cure': 446, 'major': 1083, 'study': 1692, 'vaceine': 1862, 'must': 1184, 'immediately': 906, 'care': 303, 'proper': 1402, 'reddit': 1456, 'long': 1057, 'hear': 826, 'twitter': 1836, 'account': 71, 'associated': 173, 'qanon': 1417, 'trend': 1808, 'recommendation': 1452, 'work': 1955, 'activity': 75, 'dig': 502, 'coronavaccine': 407, 'research': 1473, 'russianvaccine': 1510, 'se': 1537, 'ke': 973, 'hour': 870, 'ago': 91, 'center': 318, 'prevention': 1383, 'diagnosed': 495, 'killed': 979, 'least': 1016, 'six': 1597, 'taiwan': 1721, 'japan': 949, 'korea': 994, 'john': 957, 'risk': 1486, 'elderly': 573, 'got': 768, 'person': 1318, 'poor': 1353, 'grows': 787, 'two': 1837, 'im': 902, 'beginning': 213, 'pattern': 1307, 'sure': 1708, 'realizing': 1448, 'shirt': 1571, 'wa': 1878, 'tweet': 1830, 'military': 1146, 'italy': 942, 'facing': 645, 'stock': 1679, 'market': 1099, 'heading': 823, 'another': 135, 'depression': 487, 'germany': 738, 'yeah': 1982, 'coming': 378, 'together': 1780, 'deadly': 471, 'map': 1094, '17': 12, 'mexico': 1139, 'australia': 181, 'wear': 1905, 'healthy': 825, 'dinner': 505, 'ready': 1443, 'run': 1507, '4000': 55, 'every': 614, 'ar': 158, 'posted': 1361, 'con': 387, 'meant': 1116, 'dimate': 503, 'change': 329, 'stuff': 1693, '1st': 24, 'million': 1149, 'january': 948, 'february': 666, 'april': 157, 'july': 967, 'either': 571, 'look': 1059, 'beat': 207, 'virologist': 1871, 'govt': 772, 'lab': 998, 'whistleblower': 1932, 'comedy': 377, 'happen': 812, 'fauci': 661, 'hand': 807, 'mind': 1151, 'might': 1144, 'nice': 1211, 'liberty': 1027, 'yal': 1979, 'pant': 1291, 'fire': 684, 'lone': 1056, 'ranger': 1434, 'entire': 598, 'extrovert': 639, 'sanitizer': 1520, 'contracting': 397, 'anxiety': 140, 'already': 114, 'barricaded': 201, 'prior': 1388, 'air': 97, 'toilet': 1784, 'paper': 1293, 'kitten': 988, 'walk': 1883, 'room': 1498, 'heart': 828, 'number': 1233, 'cause': 313, 'honor': 861, 'crowded': 441, 'someone': 1628, 'everybody': 615, 'supply': 1705, 'back': 189, 'body': 242, 'allow': 111, 'celebrate': 316, 'freedom': 713, 'ask': 168, 'school': 1531, 'visit': 1873, 'humor': 879, 'spent': 1649, 'eliminate': 575, 'eliminated': 576, 'tat': 1732, 'waiting': 1880, 'attacked': 178, 'caught': 312, 'camera': 291, 'hin1': 843, 'turning': 1828, 'week': 1917, 'history': 845, 'important': 909, 'election': 574, 'george': 736, 'democrat': 485, 'answer': 136, 'question': 1422, 'dont': 523, 'sending': 1551, 'dog': 519, 'since': 1589, 'contract': 395, 'iphone': 936, 'mo': 1160, 'presidential': 1376, 'debate': 476, 'sep': 1555, '30': 44, 'cloth': 364, 'covering': 429, 'setting': 1560, 'maintain': 1082, 'importance': 908, 'ii': 896, 'melania': 1125, 'teacher': 1736, 'cough': 417, 'classroom': 356, 'cook': 400, 'selling': 1548, 'watching': 1899, 'waste': 1897, 'soap': 1618, 'lie': 1028, 'supporter': 1707, 'california': 285, 'hold': 852, 'sign': 1585, 'suit': 1700, 'anthony': 137, 'unveils': 1850, 'pic': 1327, 'award': 185, 'ball': 194, 'gag': 726, 'us': 1854, 'haha': 799, 'handle': 808, 'joke': 960, 'coke': 372, 'iam': 885, 'asking': 170, 'god': 755, 'sinister': 1593, 'reason': 1450, 'information': 925, 'hunter': 880, 'epstein': 600, 'temperature': 1741, '57': 60, 'degree': 484, 'expert': 633, 'high': 840, 'destroy': 490, 'speeding': 1646, 'officer': 1244, 'plane': 1337, 'amp': 126, 'june': 969, 'though': 1760, 'bandana': 196, 'probably': 1391, 'woman': 1950, 'airport': 98, 'screening': 1536, 'france': 711, 'told': 1785, 'heed': 829, 'check': 334, 'idiot': 891, 'idiotic': 892, 'sneeze': 1615, 'next': 1209, 'wan': 1887, 'hello': 831, 'exotic': 628, 'called': 287, 'finish': 683, 'annoying': 134, 'action': 74, 'taken': 1723, 'avoid': 183, 'ur': 1852, 'cny': 367, 'post': 1360, 'touching': 1797, 'aid': 95, 'fight': 674, 'pretending': 1379, 'second': 1542, 'still': 1678, 'anything': 144, 'worldwide': 1961, 'closing': 363, 'late': 1003, 'amount': 125, 'age': 89, 'wh': 1927, 'ya': 1978, 'ouse': 1274, 'blow': 240, 'symptom': 1718, 'nba': 1194, 'legend': 1021, 'kobe': 992, 'habit': 797, 'due': 550, 'born': 248, 'citizen': 353, 'protesting': 1406, 'actually': 77, 'seriously': 1557, 'golf': 759, 'campaign': 292, 'rally': 1431, 'hit': 846, 'tv': 1829, 'revenge': 1483, 'wednesday': 1913, '29': 42, 'slam': 1603, 'ashley': 166, 'advice': 83, 'infectious': 923, '15': 10, 'ordered': 1264, 'family': 652, 'medical': 1119, 'chief': 340, 'page': 1283, 'threat': 1763, 'education': 567, 'daily': 455, 'show': 1579, 'address': 80, 'class': 355, 'pro': 1390, 'learned': 1014, 'writing': 1970, 'quickly': 1424, 'support': 1706, 'mine': 1152, 'anymore': 142, 'weed': 1915, 'shocked': 1573, 'discover': 509, 'money': 1169, 'professor': 1398, 'fighting': 676, 'really': 1449, 'behind': 214, 'zoom': 1998, 'sleep': 1604, 'morning': 1176, 'meeting': 1123, 'parenting': 1296, 'shutdown': 1582, 'washing': 1895, 'reading': 1442, 'read': 1441, 'math': 1109, 'learn': 1013, 'carry': 306, 'homeschool': 856, 'hell': 830, 'shot': 1578, 'many': 1093, 'texas': 1747, 'old': 1252, 'fall': 650, 'hitler': 847, 'guess': 791, 'raising': 1430, 'flag': 690, 'truck': 1816, 'pass': 1301, 'biggest': 225, 'figure': 677, 'whether': 1930, 'send': 1550, 'stick': 1676, 'remote': 1462, 'hard': 817, '19h': 22, 'prince': 1386, 'andrew': 128, 'al': 100, 'uk': 1842, 'gave': 733, 'planet': 1338, 'tar': 1729, 'cop': 403, 'tired': 1776, 'looking': 1061, 'lifestyle': 1031, 'wore': 1954, 'maski': 1104, 'gin': 745, 'gft': 741, 'tried': 1810, 'press': 1377, 'wrong': 1971, 'gon': 760, 'disappear': 507, 'everything': 618, 'whatever': 1929, 'remove': 1464, 'alien': 107, 'form': 708, 'oxygen': 1281, 'sweet': 1715, 'beautiful': 208, 'android': 129, 'winchester': 1940, 'pint': 1332, 'wait': 1879, 'ð¾': 1999, 'marty': 1101, 'expected': 630, 'outfit': 1277, 'hillary': 842, 'ear': 557, 'bored': 246, '19': 17, 'disinfection': 513, 'literally': 1042, 'guardian': 790, 'nothing': 1226, 'advised': 84, 'staff': 1662, 'nearly': 1199, 'specific': 1643, 'enough': 594, 'manager': 1090, 'minute': 1155, 'employee': 585, 'daya': 467, 'toh': 1781, 'hai': 800, 'image': 904, 'middle': 1143, 'killscorona': 981, 'weedkillscorona': 1916, 'district': 516, 'plan': 1336, 'sen': 1549, 'escape': 605, 'ht': 873, 'son': 1631, 'authority': 182, 'return': 1481, 'rule': 1506, 'example': 624, 'wtf': 1973, 'expectation': 629, 'idea': 890, 'weekend': 1918, 'climate': 360, 'related': 1459, 'fake': 649, 'nature': 1192, 'humanity': 878, 'window': 1942, 'opportunity': 1260, 'shipping': 1570, 'factory': 647, 'quality': 1418, '50': 58, 'asked': 169, 'distance': 514, 'knew': 989, 'sense': 1553, 'book': 243, '00': 0, 'note': 1225, 'current': 447, 'hey': 837, 'thought': 1761, 'ere': 604, 'ton': 1790, 'men': 1130, 'alcohole': 105, 'urge': 1853, 'uber': 1839, 'driver': 542, 'park': 1297, 'football': 703, 'coworkers': 433, 'logging': 1052, 'remotely': 1463, 'couple': 424, 'notice': 1227, 'hospital': 866, 'mail': 1080, 'nobody': 1216, 'youtube': 1993, 'perfect': 1316, 'yes': 1984, 'lifeguard': 1030, 'talk': 1725, 'office': 1243, 'bring': 266, 'night': 1213, 'lot': 1065, 'word': 1953, 'cant': 299, 'lo': 1047, 'company': 383, 'apology': 150, 'started': 1669, 'menu': 1133, 'cry': 445, 'scream': 1535, 'sky': 1601, 'roomate': 1499, 'visiting': 1874, 'bit': 231, 'sick': 1583, 'eve': 610, 'web': 1909, 'app': 151, 'song': 1632, 'homeschooled': 857, 'daylight': 468, 'saving': 1526, 'friday': 714, '13th': 6, 'full': 722, 'moon': 1174, 'jumanji': 968, 'telling': 1740, 'novel': 1230, 'bos': 249, 'cousin': 425, 'asian': 167, 'covered': 428, 'offer': 1241, 'enjoy': 593, 'summer': 1701, 'worried': 1963, 'brain': 256, 'bid': 221, 'clear': 358, '2021': 31, 'graduation': 775, 'ea': 556, 'cut': 450, 'limit': 1036, 'clean': 357, 'email': 580, 'blaming': 235, 'name': 1189, 'changing': 330, 'alert': 106, 'fired': 685, 'wanted': 1889, 'hug': 875, 'touch': 1796, 'product': 1395, 'sunday': 1702, 'rve': 1511, 'traffic': 1800, '14': 7, 'ho': 849, 'introduce': 934, 'cancel': 294, 'interested': 932, 'rose': 1501, 'red': 1455, 'grey': 784, 'double': 529, 'sex': 1562, 'stonks': 1682, 'eats': 563, 'anyway': 145, 'option': 1261, 'website': 1911, 'drive': 541, 'shipped': 1569, 'result': 1479, 'seal': 1539, 'eating': 562, 'bat': 205, 'soup': 1637, 'led': 1019, 'shortage': 1577, 'ia': 884, 'mad': 1077, 'mum': 1182, 'er': 601, 'giving': 749, 'access': 68, 'deskphone': 488, 'young': 1992, 'regular': 1458, 'mom': 1164, 'cool': 402, '26': 39, '21': 33, 'law': 1009, 'view': 1869, 'wine': 1943, 'bottle': 250, 'linda': 1037, 'recycling': 1454, 'bin': 227, 'beer': 211, 'ebola': 564, 'extre': 638, 'exposed': 635, 'girl': 746, 'standing': 1665, 'foot': 701, 'thanks': 1752, 'socialdistancingpickuplines': 1621, 'talking': 1726, 'dis': 506, 'tax': 1733, 'europe': 609, 'front': 717, 'sat': 1522, 'part': 1298, 'father': 660, 'wash': 1893, 'wipe': 1944, 'finger': 682, 'tiny': 1774, 'wet': 1925, 'water': 1900, 'mouth': 1179, 'missed': 1157, 'dry': 547, 'hair': 801, 'killthe': 982, 'emotional': 583, 'trumphascovid': 1819, 'maga': 1079, 'pretend': 1378, 'earthquake': 560, 'personally': 1319, 'english': 592, 'write': 1969, 'africa': 88, 'sale': 1517, 'amazing': 118, 'national': 1191, 'small': 1607, 'large': 1001, 'size': 1598, 'career': 304, 'forward': 709, 'cinema': 352, 'drop': 544, 'ok': 1249, 'umm': 1843, 'buyer': 279, 'mainland': 1081, 'worst': 1966, 'affected': 87, 'protection': 1405, 'dear': 474, 'fuck': 719, 'republican': 1472, 'party': 1299, 'county': 423, 'sniff': 1616, 'choke': 346, '32': 48, 'prank': 1370, 'fault': 662, 'animal': 132, 'speak': 1641, 'tor': 1795, 'mematic': 1126, 'adult': 82, 'egg': 570, 'dark': 461, 'thank': 1751, 'mary': 1102, 'controlled': 399, 'honest': 859, 'business': 274, 'unemployment': 1847, '16': 11, 'pollution': 1351, 'sad': 1513, 'laughing': 1008, 'smell': 1609, 'pape': 1292, 'bar': 199, 'washed': 1894, 'codvid19': 369, 'exam': 623, '1995': 21, 'resurfaced': 1480, 'organisation': 1267, 'club': 365, 'henceforth': 834, 'disbanded': 508, 'quidditch': 1425, 'match': 1107, 'hereby': 835, 'cancelled': 296, 'permitted': 1317, 'within': 1946, 'inch': 912, 'top': 1794, 'squad': 1660, 'tryna': 1823, 'skip': 1600, 'survived': 1711, 'throne': 1767, 'coronã': 410, 'edition': 566, 'yau': 1981, 'fast': 656, 'pe': 1310, 'project': 1400, 'submission': 1696, 'challenge': 325, 'yard': 1980, 'near': 1198, '1945': 20, '2nd': 43, 'wave': 1901, 'reopening': 1466, 'turned': 1827, 'stuck': 1690, 'door': 524, '300': 45, 'essay': 606, 'assignment': 172, 'instagram': 928, 'finding': 680, 'fear': 664, 'pain': 1285, 'ah': 92, 'low': 1068, 'xi': 1977, 'jinping': 954, 'leader': 1012, 'anti': 138, 'bacteria': 190, 'apocalypse': 149, 'beijing': 215, 'crucial': 442, 'journalist': 965, '24': 36, 'jan': 947, 'facebook': 643, 'problem': 1393, 'draw': 533, 'em': 579, 'skype': 1602, 'gate': 731, 'co': 368, 'chair': 323, 'spain': 1639, 'fatality': 659, '18k': 16, 'counted': 420, '20k': 32, 'counting': 421, 'nose': 1224, 'understand': 1846, 'better': 220, 'breakout': 261, 'gop': 766, 'pick': 1328, 'grocery': 785, 'follow': 697, 'nbc': 1195, 'none': 1217, 'prepared': 1374, 'haircut': 802, 'quick': 1423, 'fan': 653, 'snack': 1612, 'canceled': 295, 'story': 1685, 'effect': 568, 'chest': 338, 'fever': 673, 'difficulty': 501, 'sudden': 1697, 'breathing': 264, 'lose': 1062, 'earth': 559, 'dor': 526, 'twer': 1832, 'ter': 1743, 'damn': 458, 'plastic': 1341, 'jul': 966, 'birthday': 230, 'gift': 744, 'scotland': 1534, 'consider': 393, 'essential': 607, 'restriction': 1478, 'planned': 1339, 'ruin': 1504, 'nicole': 1212, '31': 46, 'cake': 284, 'ruined': 1505, 'crime': 438, 'strong': 1689, 'walking': 1884, 'sweating': 1713, 'husband': 882, 'giant': 742, '2000': 28, 'twiner': 1834, 'phone': 1323, 'self': 1547, 'routine': 1503, 'prevent': 1382, 'ppe': 1366, 'purell': 1413, 'shower': 1580, 'pajama': 1286, '3pm': 53, 'brings': 267, 'apr': 156, 'ma': 1076, 'price': 1384, 'weird': 1920, 'da': 452, 'wife': 1935, 'vice': 1866, 'panic': 1290, 'level': 1024, 'chill': 342, 'mass': 1105, 'hysteria': 883, 'round': 1502, 'lol': 1055, 'hoax': 850, 'dare': 460, 'com': 375, 'memers': 1129, 'profile': 1399, 'champion': 326, 'entering': 597, 'oil': 1248, 'makeamemearg': 1086, 'anybody': 141, 'canada': 293, 'beach': 206, 'pretext': 1380, 'charge': 331, 'possible': 1359, 'butterchickendedo': 277, 'coffee': 370, 'fine': 681, 'aisle': 99, 'closed': 362, 'fun': 723, 'spot': 1654, 'ordering': 1265, 'doorstep': 525, 'outta': 1279, 'bingo': 228, 'hop': 862, 'immune': 907, 'popular': 1354, 'sing': 1590, 'la': 997, 'fa': 641, 'dad': 453, 'church': 351, 'car': 301, 'alone': 113, 'port': 1357, '23': 35, 'warehouse': 1891, 'palliative': 1288, 'grandma': 778, 'alive': 108, 'quarantined': 1420, 'mate': 1108, 'watch': 1898, 'join': 959, 'tonight': 1792, 'tfw': 1748, 'germ': 737, 'currently': 448, 'side': 1584, 'reopen': 1465, 'living': 1046, 'power': 1365, 'schooling': 1532, 'effective': 569, 'havent': 820, '36': 50, 'tweeting': 1831, 'zero': 1996, 'ibuprofen': 886, 'aggravate': 90, 'needed': 1202, '312': 47, 'dollar': 520, 'happened': 813, 'socially': 1622, 'river': 1488, 'crowd': 440, 'chlamydia': 345, 'sn': 1611, 'different': 500, 'mention': 1132, 'ipl': 937, 'five': 688, 'failed': 648, 'log': 1051, 'fool': 700, 'dying': 555, 'crap': 434, 'tomorrow': 1789, 'penny': 1313, 'trresponsible': 1815, 'status': 1672, 'modern': 1162, 'solution': 1625, 'tip': 1775, 'spending': 1648, 'ol': 1251, '90': 62, 'member': 1127, 'complain': 384, 'toi': 1782, 'line': 1038, 'kind': 983, 'traveling': 1805, 'nope': 1218, 'dreaming': 534, 'trom': 1812, 'onto': 1258, '3h': 52, 'meet': 1122, 'cell': 317, 'fruit': 718, 'deep': 483, 'sir': 1594, 'michael': 1142, 'stocked': 1680, '45': 56, 'supermarket': 1704, 'kitchen': 987, 'else': 578, 'adam': 78, 'step': 1675, 'pomhub': 1352, 'daughter': 464, 'cold': 373, 'lit': 1041, 'warm': 1892, 'reply': 1467, 'coronavirusmemes': 409, 'mi': 1141, 'saturday': 1523, 'black': 233, '28': 41, 'art': 164, 'cooking': 401, 'video': 1868, 'teach': 1735, 'wrote': 1972, 'hot': 867, 'police': 1350, 'tolet': 1786, 'york': 1990, 'pot': 1362, 'buying': 280, 'devastated': 493, 'pet': 1320, 'chew': 339, 'chuck': 350, 'norris': 1221, 'amid': 122, 'gathering': 732, 'everytime': 619, 'pretty': 1381, 'truly': 1817, 'hobby': 851, 'except': 625, 'decline': 482, 'murder': 1183, 'hornet': 864, 'pub': 1410, 'tn': 1777, 'roll': 1496, 'seeing': 1545, 'explaining': 634, 'grandchild': 777, 'able': 67, 'as': 165, 'logo': 1054, 'bank': 197, 'sold': 1624, 'omete': 1254, 'past': 1302, 'rn': 1489, 'laugh': 1007, 'recommend': 1451, 'facemask': 644, 'including': 914, 'december': 478, 'christmas': 349, 'cute': 451, 'staring': 1667, '1d': 23, 'polar': 1349, 'snow': 1617, 'shelf': 1568, 'empty': 586, 'witness': 1948, 'knowing': 991, 'amazon': 119, 'ike': 898, 'te': 1734, 'porn': 1356, 'viral': 1870, 'chancellor': 328, 'properly': 1403, 'shop': 1576, 'lp': 1069, 'sacrifice': 1512, 'aussie': 180, 'planning': 1340, 'robbing': 1495, 'following': 698, '1w': 25, 'drgrayfang': 538, 'riot': 1485, 'liked': 1035, 'others': 1272, 'add': 79, 'oft': 1246, 'senior': 1552, 'prom': 1401, 'crashing': 435, 'saudi': 1524, 'millenials': 1147, 'everyday': 616, 'lunda': 1072, 'normally': 1220, 'spouse': 1655, 'stadium': 1661, 'correct': 412, '40': 54, 'determined': 492, 'declares': 481, 'mak': 1084, 'allen': 110, 'wih': 1936, 'owner': 1280, 'google': 764, 'millennials': 1148, 'production': 1396, 'thursday': 1769, 'oet': 1240, 'logic': 1053, 'eradicated': 603, 'loved': 1067, 'spirit': 1650, 'accidentally': 69, 'omg': 1255, 'fo': 695, 'restaurant': 1477, 'indonesian': 918, 'teaching': 1737, 'sent': 1554, 'marshall': 1100, 'grandpa': 779, 'jason': 950, 'mamoa': 1088, 'serious': 1556, 'sometimes': 1630, 'checking': 335, 'inbox': 910, 'wfh': 1926, 'star': 1666, 'bed': 210, 'couch': 416, '14th': 9, 'indianexpress': 917, 'litquidity': 1043, 'wealth': 1904, 'blue': 241, 'monk': 1171, 'lack': 999, 'taste': 1731, 'fat': 658, 'wish': 1945, 'happy': 816, 'ugh': 1841, 'stupid': 1694, 'avoidance': 184, 'become': 209, 'lead': 1011, 'traveler': 1804, 'kinda': 984, 'ab': 66, 'shame': 1564, 'morgan': 1175, 'cruise': 443, 'exactly': 622, 'illness': 901, 'refuse': 1457, 'weara': 1906, 'tollet': 1787, 'ima': 903, 'monday': 1168, 'holding': 853, 'ppl': 1367, 'graduated': 774, 'served': 1558, 'paid': 1284, 'treatment': 1807, 'choose': 347, 'hearing': 827, 'hub': 874, 'uganda': 1840, 'confirms': 390, 'mayor': 1113, 'jaw': 951, 'keeping': 975, 'spend': 1647, 'throat': 1766, 'forgot': 707, 'tp': 1799, 'simpson': 1587, 'breakfast': 259, 'arh': 161, 'lunch': 1071, 'given': 748, 'fucking': 721, 'north': 1222, 'denies': 486, 'intelligence': 930, 'lying': 1073, 'grandson': 780, 'caused': 314, 'gramps': 776, 'gorilla': 767, 'named': 1190, 'sport': 1653, 'horse': 865, 'bitch': 232, 'enter': 596, 'fighter': 675, 'didnt': 496, 'precious': 1372, 'ig': 894, 'conference': 388, 'system': 1719, 'calm': 289, 'othe': 1270, 'mer': 1134, 'hottest': 868, 'ticket': 1770, 'town': 1798, 'welcome': 1921, 'cheap': 333, 'flight': 692, 'physical': 1326, 'training': 1802, 'moment': 1165, 'raise': 1429, '22': 34, 'governor': 771, 'era': 602, 'realise': 1445, 'latte': 1006, 'everywhere': 620, 'zealand': 1995, 'iceland': 888, 'proven': 1408, 'va': 1859, 'snap': 1613, 'rooting': 1500, 'therapist': 1756, 'bra': 255, 'breathe': 263, 'card': 302, 'pay': 1308, 'blogger': 238, 'rnt': 1490, 'patiently': 1304, 'daly': 456, 'nimbers': 1215, 'mood': 1173, 'ahead': 93, 'infecting': 921, 'graph': 781, 'college': 374, 'style': 1695, 'worn': 1962, 'random': 1433, 'sleeping': 1605, 'wuhanvirus': 1975, 'gamers': 728, 'rat': 1437, 'darth': 462, 'vader': 1863, 'emotionally': 584, 'hero': 836, 'yorkers': 1991, 'mark': 1098, 'singapore': 1591, 'bottom': 251, 'et': 608, 'webcam': 1910, 'stil': 1677, 'jackson': 945, 'coworker': 432, 'retweets': 1482, 'barry': 202, 'mink': 1154, 'ay': 187, 'slipper': 1606, 'orona': 1269, 'id': 889, 'twice': 1833, 'three': 1765, 'iii': 897, 'smart': 1608, 'butter': 276, '84': 61, 'cover': 427, 'dress': 535, 'chairman': 324, 'season': 1540, 'listen': 1039, 'bre': 257, 'yeu': 1987, 'ae': 85, 'apparently': 152, 'straight': 1686, 'roasting': 1493, 'fuckin': 720, 'anyone': 143, 'whas': 1928, 'yu': 1994, '38': 51, 'exists': 627, 'among': 124, 'mon': 1167, 'ido': 893, 'truth': 1820, 'ita': 941, 'li': 1025, 'gen': 735, 'proceeded': 1394, 'embarrassed': 581, 'productive': 1397, 'william': 1938, 'draft': 532, 'momoa': 1166, 'nigmenog': 1214, 'grumbletonian': 788, 'tongue': 1791, 'canvas': 300, 'rap': 1435, 'ap': 147, 'eye': 640, 'mess': 1135, 'shoe': 1574, 'drunk': 546, 'ai': 94, 'worked': 1956, 'negative': 1203, 'boom': 244, 'helping': 833, 'fit': 687, 'approved': 155, 'patriot': 1305, 'huge': 876, 'throughout': 1768, 'jesus': 952, 'wouldnt': 1968, 'vega': 1864, 'dealer': 473, 'doesnt': 518, 'driving': 543, 'catching': 310, 'spring': 1659, 'loses': 1063, 'chat': 332, 'threatened': 1764, 'extinction': 636, 'across': 72, 'congratulation': 392, 'completed': 385, 'netflix': 1205, 'looked': 1060, 'goose': 765, 'rand': 1432, 'act': 73, 'seven': 1561, 'bus': 273, 'lyric': 1075, 'mf': 1140, 'motherfucker': 1178, 'somebody': 1626, 'begin': 212, 'kit': 986, 'baskin': 204, '48': 57, 'rona': 1497, 'announces': 133, 'crux': 444, 'player': 1343, 'lady': 1000, 'gova': 769, '1944': 19, 'attack': 177, 'aer': 86, 'quote': 1426, 'debbie': 477, 'lyme': 1074, 'mein': 1124, 'ater': 176, 'ro': 1491, 'wen': 1923, 'guideline': 792, 'practice': 1368, 'disinfectant': 512, 'nadler': 1188, 'blank': 236, 'waking': 1882, 'damage': 457, 'ihave': 895, 'homeschooling': 858, 'goggles': 756, 'apart': 148, 'stole': 1681, 'super': 1703, 'pas': 1300, 'goo': 762, 'audio': 179, 'carona': 305, 'hang': 809, 'twiter': 1835, 'lock': 1049, 'du': 548, 'ttter': 1824, 'ill': 900, 'alamy': 101, 'federal': 668, 'mandate': 1091, 'enforce': 591, 'flexing': 691, 'fellow': 671, 'moderna': 1163, 'seat': 1541, 'met': 1137, 'byb': 282, 'cov': 426, 'ao': 146, 'street': 1687, 'patriotic': 1306, '14h': 8, '100': 2, 'private': 1389, 'gas': 729, 'forget': 706, 'luck': 1070, 'daddy': 454, 'trouble': 1813, 'glass': 750, 'robber': 1494, 'peace': 1311, 'golden': 758, 'chachi': 322, 'dough': 530, 'surprise': 1709, 'service': 1559, 'praising': 1369, 'potty': 1363, 'toddler': 1779, 'ump': 1844, 'wearinga': 1908, 'jonathan': 962, 'asks': 171, 'rd': 1439, 'photograph': 1325, 'inject': 926, 'client': 359, 'florida': 693, 'road': 1492, 'chris': 348, 'workfromhome': 1958, 'archaeologist': 159, 'future': 725, 'sound': 1636, 'bet': 219, 'pilot': 1331, 'spit': 1651, 'jordan': 964, 'yoga': 1989, 'pray': 1371, 'iwant': 943, 'monitor': 1170, 'university': 1849, 'sponsored': 1652, 'cheer': 336, 'astronaut': 174, 'fashion': 655, 'othemillennialgrind': 1271, 'mute': 1185, 'weebsempai': 1914, 'busy': 275, 'economy': 565, 'min': 1150, 'meeka': 1121, 'chemistry': 337, 'drinking': 540, 'mode': 1161, 'confused': 391, 'legolas': 1022, 'shooting': 1575, 'inc': 911, 'rapper': 1436, 'tinder': 1773, 'mile': 1145, 'outdoors': 1276, 'swipe': 1717, 'sgag': 1563, 'aint': 96, 'felt': 672, 'marine': 1097, 'bag': 192, 'neighbor': 1204, 'local': 1048, 'duty': 553, 'kiled': 977, 'fridge': 715, 'paying': 1309, 'somee': 1627, 'commute': 382, 'weekly': 1919, 'pigeon': 1330, 'sober': 1619, 'infection': 922, 'tum': 1825, 'allah': 109, 'gym': 795, 'pneumonia': 1347, 'probed': 1392, 'hilarious': 841, 'appeared': 153, 'hame': 805, 'strip': 1688, 'dressing': 537, 'amma': 123, 'byalcohol': 281, 'respect': 1474, 'notification': 1229, 'ending': 590, 'alcohal': 103, 'thee': 1755, 'dunt': 552, 'istening': 940, 'faster': 657, 'leaving': 1018, 'sea': 1538, 'simply': 1586, 'predict': 1373, 'angel': 131, 'nurse': 1234, 'walter': 1886, 'dance': 459, 'train': 1801, 'province': 1409, 'trovel': 1814, 'pen': 1312, 'det': 491, 'principal': 1387, 'null': 1232, 'suspended': 1712, 'menes': 1131, 'alan': 102, 'meaney': 1115, 'purel': 1412, 'wedding': 1912, 'rachel': 1427, 'noticed': 1228, 'copied': 404, 'grad': 773, 'ceremony': 320, 'bless': 237, 'david': 465, 'bird': 229, 'hae': 798, 'spray': 1656, 'miracle': 1156, 'naè': 1193, 'skin': 1599, 'interaction': 931, 'toile': 1783, 'otherwise': 1273, 'gaston': 730, 'bidet': 223, 'sneaking': 1614, 'paradise': 1294, 'ritual': 1487, 'sitting': 1596, 'bagel': 193}\n"
     ]
    }
   ],
   "source": [
    "print(Tfidf_vect.vocabulary_)"
   ],
   "metadata": {
    "collapsed": false,
    "ExecuteTime": {
     "end_time": "2024-01-09T16:11:15.575094Z",
     "start_time": "2024-01-09T16:11:15.573788Z"
    }
   },
   "id": "adc206871f676d99",
   "execution_count": 8
  },
  {
   "cell_type": "code",
   "outputs": [
    {
     "name": "stdout",
     "output_type": "stream",
     "text": [
      "Naive Bayes Accuracy Score ->  73.89380530973452\n"
     ]
    }
   ],
   "source": [
    "# fit the training dataset on the NB classifier\n",
    "naive = naive_bayes.MultinomialNB()\n",
    "naive.fit(train_x_Tfidf,train_y)\n",
    "# predict the labels on validation dataset\n",
    "predictions_NB = naive.predict(test_x_Tfidf)\n",
    "# Use accuracy_score function to get the accuracy\n",
    "print(\"Naive Bayes Accuracy Score -> \",accuracy_score(predictions_NB, test_y)*100)"
   ],
   "metadata": {
    "collapsed": false,
    "ExecuteTime": {
     "end_time": "2024-01-09T16:11:15.579644Z",
     "start_time": "2024-01-09T16:11:15.576611Z"
    }
   },
   "id": "6c1875047f81890a",
   "execution_count": 9
  },
  {
   "cell_type": "code",
   "outputs": [
    {
     "name": "stdout",
     "output_type": "stream",
     "text": [
      "SVM Accuracy Score ->  76.76991150442478\n"
     ]
    }
   ],
   "source": [
    "# Classifier - Algorithm - SVM\n",
    "# fit the training dataset on the classifier\n",
    "SVM = svm.SVC(C=1.0, kernel='linear', degree=3, gamma='auto')\n",
    "SVM.fit(train_x_Tfidf,train_y)\n",
    "# predict the labels on validation dataset\n",
    "predictions_SVM = SVM.predict(test_x_Tfidf)\n",
    "# Use accuracy_score function to get the accuracy\n",
    "print(\"SVM Accuracy Score -> \",accuracy_score(predictions_SVM, test_y)*100)"
   ],
   "metadata": {
    "collapsed": false,
    "ExecuteTime": {
     "end_time": "2024-01-09T16:11:15.757950Z",
     "start_time": "2024-01-09T16:11:15.582131Z"
    }
   },
   "id": "78f5d124055318d2",
   "execution_count": 10
  },
  {
   "cell_type": "code",
   "outputs": [
    {
     "name": "stdout",
     "output_type": "stream",
     "text": [
      "              precision    recall  f1-score   support\n",
      "\n",
      "           0       0.74      0.91      0.82       577\n",
      "           1       0.74      0.43      0.54       327\n",
      "\n",
      "    accuracy                           0.74       904\n",
      "   macro avg       0.74      0.67      0.68       904\n",
      "weighted avg       0.74      0.74      0.72       904\n"
     ]
    }
   ],
   "source": [
    "from sklearn.metrics import classification_report\n",
    "\n",
    "print(classification_report(test_y, predictions_NB))"
   ],
   "metadata": {
    "collapsed": false,
    "ExecuteTime": {
     "end_time": "2024-01-09T16:11:15.763395Z",
     "start_time": "2024-01-09T16:11:15.758678Z"
    }
   },
   "id": "5d3e40957a8e5fd",
   "execution_count": 11
  },
  {
   "cell_type": "code",
   "outputs": [
    {
     "data": {
      "text/plain": "<Figure size 800x550 with 1 Axes>",
      "image/png": "[encoded data removed]"
     },
     "metadata": {},
     "output_type": "display_data"
    }
   ],
   "source": [
    "from yellowbrick.classifier import ClassPredictionError\n",
    "\n",
    "# Instantiate the classification model and visualizer\n",
    "visualizer = ClassPredictionError(\n",
    "    naive, classes=encoder.classes_\n",
    ")\n",
    "\n",
    "# Fit the training data to the visualizer\n",
    "visualizer.fit(train_x_Tfidf,train_y)\n",
    "\n",
    "# Evaluate the model on the test data\n",
    "visualizer.score(test_x_Tfidf, test_y)\n",
    "\n",
    "# Draw visualization\n",
    "g = visualizer.poof()"
   ],
   "metadata": {
    "collapsed": false,
    "ExecuteTime": {
     "end_time": "2024-01-09T16:11:16.104280Z",
     "start_time": "2024-01-09T16:11:15.764367Z"
    }
   },
   "id": "3f9e9c0eee17d496",
   "execution_count": 12
  },
  {
   "cell_type": "code",
   "outputs": [
    {
     "name": "stdout",
     "output_type": "stream",
     "text": [
      "SVM Accuracy Score ->  76.76991150442478\n"
     ]
    }
   ],
   "source": [
    "# Classifier - Algorithm - SVM\n",
    "svm_class = svm.SVC(C=1.0, kernel='linear', degree=3, gamma='auto')\n",
    "svm_class.fit(train_x_Tfidf,train_y)\n",
    "\n",
    "predictions_SVM = SVM.predict(test_x_Tfidf)\n",
    "\n",
    "print(\"SVM Accuracy Score -> \",accuracy_score(predictions_SVM, test_y)*100)"
   ],
   "metadata": {
    "collapsed": false,
    "ExecuteTime": {
     "end_time": "2024-01-09T16:11:16.306167Z",
     "start_time": "2024-01-09T16:11:16.105943Z"
    }
   },
   "id": "cd7ccec6558d452d",
   "execution_count": 13
  },
  {
   "cell_type": "code",
   "outputs": [
    {
     "name": "stdout",
     "output_type": "stream",
     "text": [
      "              precision    recall  f1-score   support\n",
      "\n",
      "           0       0.77      0.90      0.83       577\n",
      "           1       0.75      0.54      0.62       327\n",
      "\n",
      "    accuracy                           0.77       904\n",
      "   macro avg       0.76      0.72      0.73       904\n",
      "weighted avg       0.77      0.77      0.76       904\n"
     ]
    }
   ],
   "source": [
    "print(classification_report(test_y,predictions_SVM))"
   ],
   "metadata": {
    "collapsed": false,
    "ExecuteTime": {
     "end_time": "2024-01-09T16:11:16.311492Z",
     "start_time": "2024-01-09T16:11:16.306682Z"
    }
   },
   "id": "393661439e59e719",
   "execution_count": 14
  }
 ],
 "metadata": {
  "kernelspec": {
   "display_name": "Python 3",
   "language": "python",
   "name": "python3"
  },
  "language_info": {
   "codemirror_mode": {
    "name": "ipython",
    "version": 2
   },
   "file_extension": ".py",
   "mimetype": "text/x-python",
   "name": "python",
   "nbconvert_exporter": "python",
   "pygments_lexer": "ipython2",
   "version": "2.7.6"
  }
 },
 "nbformat": 4,
 "nbformat_minor": 5
}
