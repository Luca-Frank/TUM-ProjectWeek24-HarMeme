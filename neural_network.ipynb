{
 "cells": [
  {
   "cell_type": "code",
   "execution_count": null,
   "metadata": {},
   "outputs": [],
   "source": [
    "import torch\n",
    "import torch.nn as nn\n",
    "import torch.optim as optim\n",
    "from torch.utils.data import DataLoader, TensorDataset\n",
    "from sklearn.model_selection import train_test_split\n",
    "from sklearn.feature_extraction.text import TfidfVectorizer\n",
    "from sklearn.metrics import accuracy_score, classification_report\n",
    "import pandas as pd\n",
    "import nltk\n",
    "from nltk.corpus import stopwords\n",
    "from nltk.tokenize import word_tokenize\n",
    "from nltk import FreqDist\n",
    "from nltk.stem import WordNetLemmatizer\n",
    "import matplotlib.pyplot as plt\n",
    "import re\n",
    "import ssl"
   ]
  },
  {
   "cell_type": "code",
   "execution_count": null,
   "metadata": {},
   "outputs": [],
   "source": [
    "# Source: https://github.com/gunthercox/ChatterBot/issues/930#issuecomment-322111087 \n",
    "# This is to fix the SSL error when downloading nltk data, which is a known issue on Mac OS\n",
    "try:\n",
    "    _create_unverified_https_context = ssl._create_unverified_context\n",
    "except AttributeError:\n",
    "    pass\n",
    "else:\n",
    "    ssl._create_default_https_context = _create_unverified_https_context\n",
    "\n",
    "nltk.download('stopwords')\n",
    "nltk.download('punkt')\n",
    "nltk.download('wordnet')"
   ]
  },
  {
   "cell_type": "code",
   "execution_count": null,
   "metadata": {},
   "outputs": [],
   "source": [
    "# Function for text preprocessing\n",
    "def preprocess_text(text):\n",
    "    print(text)\n",
    "\n",
    "    # Remove digits\n",
    "    text = text.replace('\\d+', '')\n",
    "    \n",
    "    # Clean urls\n",
    "    url_pattern = re.compile(r'https?://\\S+|www\\.\\S+')\n",
    "    text = url_pattern.sub('', text)\n",
    "    \n",
    "    # Lowercasing\n",
    "    text = text.lower()\n",
    "\n",
    "    # Tokenization\n",
    "    tokens = word_tokenize(text)\n",
    "\n",
    "    # Removing stopwords and non-alphanumeric characters\n",
    "    stop_words = set(stopwords.words('english'))\n",
    "    tokens = [token for token in tokens if token.isalnum() and token not in stop_words]\n",
    "\n",
    "    # Lemmatization\n",
    "    lemmatizer = WordNetLemmatizer()\n",
    "    tokens = [lemmatizer.lemmatize(token) for token in tokens]\n",
    "\n",
    "    return ' '.join(tokens)"
   ]
  },
  {
   "cell_type": "code",
   "execution_count": null,
   "metadata": {},
   "outputs": [],
   "source": [
    "def remove_punctuation(words):\n",
    "    new_words = []\n",
    "    for word in words:\n",
    "        new_word = re.sub(r'[^\\w\\s]', '', (word))\n",
    "        new_words.append(new_word)\n",
    "    return new_words"
   ]
  },
  {
   "cell_type": "code",
   "execution_count": null,
   "metadata": {},
   "outputs": [],
   "source": [
    "train_df = pd.read_csv(\"data_train_preprocessed.csv\")\n",
    "test_df = pd.read_csv(\"data_test_preprocessed.csv\")\n",
    "\n",
    "train_df['processed_text_alt'] = train_df['processed_text_alt'].fillna('')\n",
    "test_df['processed_text_alt'] = test_df['processed_text_alt'].fillna('')\n",
    "\n",
    "print(train_df['processed_text_alt'])"
   ]
  },
  {
   "cell_type": "code",
   "execution_count": null,
   "metadata": {},
   "outputs": [],
   "source": [
    "train_tokens = [token for tokens_list in train_df['processed_text_alt'] for token in tokens_list]\n",
    "preprocessed_train_tokens = [token for tokens_list in train_df['processed_text_alt'] for token in tokens_list]\n",
    "\n",
    "vocabulary_size = len(set(train_tokens))\n",
    "vocabulary_size_preprocessed = len(set(preprocessed_train_tokens))\n",
    "\n",
    "print(f'Vocabulary Size Preprocessed: {vocabulary_size_preprocessed}')\n",
    "print(f'Vocabulary Size: {vocabulary_size}')\n",
    "\n",
    "# Split the dataset into training and validation sets\n",
    "train_df, val_df = train_test_split(train_df, test_size=0.2, random_state=42)"
   ]
  },
  {
   "cell_type": "code",
   "execution_count": null,
   "metadata": {},
   "outputs": [],
   "source": [
    "# TF-IDF Vectorization\n",
    "vectorizer = TfidfVectorizer(max_features=3000)  # Adjust max_features based on dataset size\n",
    "X_train = vectorizer.fit_transform(train_df['processed_text_alt']).toarray()\n",
    "X_val = vectorizer.transform(val_df['processed_text_alt']).toarray()\n",
    "X_test = vectorizer.transform(test_df['processed_text_alt']).toarray()\n",
    "y_train = (train_df['binary_labels']).astype(int).values\n",
    "y_val = (val_df['binary_labels']).astype(int).values\n",
    "y_test = (test_df['binary_labels']).astype(int).values"
   ]
  },
  {
   "cell_type": "code",
   "execution_count": null,
   "metadata": {},
   "outputs": [],
   "source": [
    "# Convert data to PyTorch tensors\n",
    "X_train_tensor = torch.tensor(X_train, dtype=torch.float32)\n",
    "X_val_tensor = torch.tensor(X_val, dtype=torch.float32)\n",
    "X_test_tensor = torch.tensor(X_test, dtype=torch.float32)\n",
    "y_train_tensor = torch.tensor(y_train, dtype=torch.float32)\n",
    "y_val_tensor = torch.tensor(y_val, dtype=torch.float32)\n",
    "y_test_tensor = torch.tensor(y_test, dtype=torch.float32)"
   ]
  },
  {
   "cell_type": "code",
   "execution_count": null,
   "metadata": {},
   "outputs": [],
   "source": [
    "# Create DataLoader\n",
    "train_dataset = TensorDataset(X_train_tensor, y_train_tensor)\n",
    "train_loader = DataLoader(train_dataset, batch_size=64, shuffle=True)\n",
    "\n",
    "val_dataset = TensorDataset(X_val_tensor, y_val_tensor)\n",
    "val_loader = DataLoader(val_dataset, batch_size=64, shuffle=False)"
   ]
  },
  {
   "cell_type": "code",
   "execution_count": null,
   "metadata": {},
   "outputs": [],
   "source": [
    "from wordcloud import WordCloud\n",
    "#Frequency of words\n",
    "fdist = FreqDist(train_df['processed_text_alt'])\n",
    "#WordCloud\n",
    "wc = WordCloud(width=800, height=400, max_words=50).generate_from_frequencies(fdist)\n",
    "plt.figure(figsize=(12,10))\n",
    "plt.imshow(wc, interpolation=\"bilinear\")\n",
    "plt.axis(\"off\")\n",
    "plt.show()"
   ]
  },
  {
   "cell_type": "code",
   "execution_count": null,
   "metadata": {},
   "outputs": [],
   "source": [
    "# Define the Neural Network model\n",
    "class SimpleNN(nn.Module):\n",
    "    def __init__(self, input_size, hidden_size, output_size):\n",
    "        super(SimpleNN, self).__init__()\n",
    "        self.fc1 = nn.Linear(input_size, hidden_size)\n",
    "        self.relu = nn.ReLU()\n",
    "        self.fc2 = nn.Linear(hidden_size, output_size)\n",
    "        self.sigmoid = nn.Sigmoid()\n",
    "\n",
    "    def forward(self, x):\n",
    "        x = self.fc1(x)\n",
    "        x = self.relu(x)\n",
    "        x = self.fc2(x)\n",
    "        x = self.sigmoid(x)\n",
    "        return x"
   ]
  },
  {
   "cell_type": "code",
   "execution_count": null,
   "metadata": {},
   "outputs": [],
   "source": [
    "class DeepNN(nn.Module):\n",
    "    def __init__(self, input_size, hidden_size, output_size):\n",
    "        super().__init__()\n",
    "        self.layer1 = nn.Linear(input_size, 2000)\n",
    "        self.act1 = nn.ReLU()\n",
    "        self.layer2 = nn.Linear(2000, 500)\n",
    "        self.act2 = nn.ReLU()\n",
    "        self.layer3 = nn.Linear(500, 100)\n",
    "        self.act3 = nn.ReLU()\n",
    "        self.output = nn.Linear(100, output_size)\n",
    "        self.sigmoid = nn.Sigmoid()\n",
    "\n",
    "    def forward(self, x):\n",
    "        x = self.act1(self.layer1(x))\n",
    "        x = self.act2(self.layer2(x))\n",
    "        x = self.act3(self.layer3(x))\n",
    "        x = self.sigmoid(self.output(x))\n",
    "        return x"
   ]
  },
  {
   "cell_type": "code",
   "execution_count": null,
   "metadata": {},
   "outputs": [],
   "source": [
    "# Instantiate the model\n",
    "input_size = X_train.shape[1]\n",
    "print (\"Input size:\", input_size)\n",
    "hidden_size = 500\n",
    "output_size = 1  # Binary classification\n",
    "model = SimpleNN(input_size, hidden_size, output_size)"
   ]
  },
  {
   "cell_type": "code",
   "execution_count": null,
   "metadata": {},
   "outputs": [],
   "source": [
    "# Loss function and optimizer\n",
    "criterion = nn.BCELoss()\n",
    "optimizer = optim.Adam(model.parameters(), lr=0.001)"
   ]
  },
  {
   "cell_type": "code",
   "execution_count": null,
   "metadata": {},
   "outputs": [],
   "source": [
    "# Training loop with validation\n",
    "epochs = 10\n",
    "\n",
    "train_losses = []\n",
    "val_losses = []\n",
    "\n",
    "avg_train_losses = []\n",
    "avg_val_losses = []\n",
    "\n",
    "for epoch in range(epochs):\n",
    "    \n",
    "    model.train()\n",
    "    \n",
    "    for batch_X, batch_y in train_loader:\n",
    "        \n",
    "        optimizer.zero_grad()\n",
    "        outputs = model(batch_X)\n",
    "        loss = criterion(outputs.squeeze(), batch_y)\n",
    "        loss.backward()\n",
    "        optimizer.step()\n",
    "\n",
    "        train_losses.append(loss.item())\n",
    "        # print(f'Epoch: {epoch + 1}, Batch Loss: {loss.item()}')\n",
    "        \n",
    "\n",
    "    # Validation\n",
    "    model.eval()\n",
    "    \n",
    "    with torch.no_grad():\n",
    "        \n",
    "        val_outputs = model(X_val_tensor)\n",
    "        val_loss = criterion(val_outputs.squeeze(), y_val_tensor)\n",
    "        val_losses.append(loss.item())\n",
    "\n",
    "    # Print average training loss for the epoch\n",
    "    avg_train_loss = sum(train_losses) / len(train_losses)\n",
    "    avg_train_losses.append(avg_train_loss)\n",
    "    print(f'Epoch: {epoch + 1}, Average Training Loss: {avg_train_loss}')\n",
    "\n",
    "    avg_val_loss = sum(val_losses) / len(val_losses)\n",
    "    avg_val_losses.append(avg_val_loss)\n",
    "    print(f'Average Validation Loss: {avg_val_loss}')"
   ]
  },
  {
   "cell_type": "code",
   "execution_count": null,
   "metadata": {},
   "outputs": [],
   "source": [
    "import seaborn as sns\n",
    "import numpy as np\n",
    "\n",
    "# plot results\n",
    "def plot_results():\n",
    "    # styling from seaborn.\n",
    "    sns.set(style='darkgrid')\n",
    "    # uncrease the plot size and font size.\n",
    "    sns.set(font_scale=1.5)\n",
    "    plt.rcParams[\"figure.figsize\"] = (12,6)\n",
    "\n",
    "    # plot the learning curve.\n",
    "    plt.plot(np.arange(1,epochs+1), avg_train_losses, 'b-o', label=\"Training\")\n",
    "    plt.plot(np.arange(1,epochs+1), avg_val_losses, 'g-o', label=\"Validation\")\n",
    "\n",
    "    # Label the plot.\n",
    "    plt.title(\"Training & Validation Loss\")\n",
    "    plt.xlabel(\"Epoch\")\n",
    "    plt.ylabel(\"Loss\")\n",
    "    plt.legend()\n",
    "    plt.xticks(list(range(1, epochs+1)))\n",
    "\n",
    "    return plt.show()\n",
    "\n",
    "\n",
    "plot_results()"
   ]
  },
  {
   "cell_type": "code",
   "execution_count": null,
   "metadata": {},
   "outputs": [],
   "source": [
    "# Evaluation on the test set\n",
    "model.eval()\n",
    "with torch.no_grad():\n",
    "    y_pred_test = model(X_test_tensor).squeeze().numpy()\n",
    "\n",
    "y_pred_test_binary = (y_pred_test > 0.5).astype(int)\n",
    "\n",
    "test_accuracy = accuracy_score(y_test, y_pred_test_binary)\n",
    "\n",
    "print(f\"Testing Accuracy: {test_accuracy}\")\n",
    "\n",
    "# Classification Report\n",
    "print(\"Classification Report on Test Set:\")\n",
    "# TODO: Fix zero_division error, the precision result for hate (class 1) is not right currently\n",
    "print(classification_report(y_test, y_pred_test_binary))"
   ]
  }
 ],
 "metadata": {
  "kernelspec": {
   "display_name": "Python 3",
   "language": "python",
   "name": "python3"
  },
  "language_info": {
   "codemirror_mode": {
    "name": "ipython",
    "version": 3
   },
   "file_extension": ".py",
   "mimetype": "text/x-python",
   "name": "python",
   "nbconvert_exporter": "python",
   "pygments_lexer": "ipython3",
   "version": "3.11.4"
  }
 },
 "nbformat": 4,
 "nbformat_minor": 2
}
