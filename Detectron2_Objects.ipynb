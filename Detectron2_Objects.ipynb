{
 "cells": [
  {
   "cell_type": "code",
   "execution_count": 32,
   "metadata": {},
   "outputs": [],
   "source": [
    "import pandas as pd\n",
    "train = pd.read_csv(\"data_train_preprocessed.csv\", keep_default_na=False).rename(columns={\"image\":\"img\"})\n",
    "test = pd.read_csv(\"data_test_preprocessed.csv\", keep_default_na=False).rename(columns={\"image\":\"img\"})\n",
    "obj = pd.read_csv(\"data/Detectron2_Objects.csv\",keep_default_na=False)\n",
    "\n",
    "train = train.merge(obj, on=\"img\", how=\"inner\")\n",
    "test = test.merge(obj, on=\"img\", how=\"inner\")\n",
    "\n",
    "train[\"text_and_objects\"]= train[\"processed_text_alt\"]+\" \"+train[\"objects\"]\n",
    "test[\"text_and_objects\"]= test[\"processed_text_alt\"]+\" \"+test[\"objects\"]\n",
    "\n",
    "train.to_csv(\"data/train_text_and_objects.csv\")\n",
    "test.to_csv(\"data/test_text_and_objects.csv\")"
   ]
  }
 ],
 "metadata": {
  "kernelspec": {
   "display_name": "Python 3",
   "language": "python",
   "name": "python3"
  },
  "language_info": {
   "codemirror_mode": {
    "name": "ipython",
    "version": 3
   },
   "file_extension": ".py",
   "mimetype": "text/x-python",
   "name": "python",
   "nbconvert_exporter": "python",
   "pygments_lexer": "ipython3",
   "version": "3.10.12"
  }
 },
 "nbformat": 4,
 "nbformat_minor": 2
}
