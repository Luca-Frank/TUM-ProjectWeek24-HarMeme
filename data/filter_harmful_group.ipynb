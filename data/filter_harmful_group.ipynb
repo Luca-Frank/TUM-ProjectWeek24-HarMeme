{
 "cells": [
  {
   "cell_type": "code",
   "execution_count": 2,
   "metadata": {},
   "outputs": [
    {
     "name": "stdout",
     "output_type": "stream",
     "text": [
      "Data processing is complete, saved to C:\\Users\\m'j\\Desktop\\data_test_preprocessed_harmful.csv\n"
     ]
    },
    {
     "name": "stderr",
     "output_type": "stream",
     "text": [
      "C:\\Users\\m'j\\AppData\\Local\\Temp\\ipykernel_77776\\2009020647.py:18: SettingWithCopyWarning: \n",
      "A value is trying to be set on a copy of a slice from a DataFrame.\n",
      "Try using .loc[row_indexer,col_indexer] = value instead\n",
      "\n",
      "See the caveats in the documentation: https://pandas.pydata.org/pandas-docs/stable/user_guide/indexing.html#returning-a-view-versus-a-copy\n",
      "  filtered_df['labels'] = filtered_df['labels'].apply(extract_second_label)\n"
     ]
    }
   ],
   "source": [
    "import pandas as pd\n",
    "\n",
    "# Read the CSV file\n",
    "file_path = \"C:\\\\Users\\\\m'j\\\\Desktop\\\\data_test_preprocessed.csv\"  # Replace with the path to your file\n",
    "df = pd.read_csv(file_path)\n",
    "\n",
    "# Filter out rows where 'binary_labels' is 1\n",
    "filtered_df = df[df['binary_labels'] == 1]\n",
    "\n",
    "# Function to extract the second element from the 'labels' column\n",
    "def extract_second_label(label_str):\n",
    "    # Convert the string representation of the list to an actual list\n",
    "    label_list = eval(label_str)\n",
    "    # Return the second element if it exists, otherwise return None\n",
    "    return label_list[1] if len(label_list) > 1 else None\n",
    "\n",
    "# Apply the function to the 'labels' column\n",
    "filtered_df['labels'] = filtered_df['labels'].apply(extract_second_label)\n",
    "\n",
    "# Save the results to a new CSV file\n",
    "output_file_path = \"C:\\\\Users\\\\m'j\\\\Desktop\\\\data_test_preprocessed_harmful.csv\"\n",
    "filtered_df.to_csv(output_file_path, index=False)\n",
    "\n",
    "print(\"Data processing is complete, saved to\", output_file_path)\n"
   ]
  }
 ],
 "metadata": {
  "kernelspec": {
   "display_name": "Python 3",
   "language": "python",
   "name": "python3"
  },
  "language_info": {
   "codemirror_mode": {
    "name": "ipython",
    "version": 3
   },
   "file_extension": ".py",
   "mimetype": "text/x-python",
   "name": "python",
   "nbconvert_exporter": "python",
   "pygments_lexer": "ipython3",
   "version": "3.10.11"
  }
 },
 "nbformat": 4,
 "nbformat_minor": 2
}
