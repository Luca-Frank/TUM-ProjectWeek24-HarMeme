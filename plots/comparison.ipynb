{
 "cells": [
  {
   "cell_type": "code",
   "execution_count": null,
   "metadata": {},
   "outputs": [],
   "source": [
    "import pandas as pd\n",
    "import matplotlib.pyplot as plt\n",
    "\n",
    "df = pd.read_excel(\"C:\\\\Users\\\\m'j\\\\Desktop\\\\comparisons.xlsx\", engine='openpyxl')\n",
    "\n",
    "df_sorted = df.sort_values(by='F1-Score', ascending=False)\n",
    "\n",
    "plt.figure(figsize=(10, 6))\n",
    "\n",
    "for column in df_sorted.columns[1:]:\n",
    "    plt.bar(df_sorted['Model'] + '_' + column, df_sorted[column], label=column)\n",
    "\n",
    "plt.legend()\n",
    "\n",
    "plt.title('Model Performance Sorted by F1-Score')\n",
    "plt.xlabel('Models')\n",
    "plt.ylabel('Scores')\n",
    "\n",
    "plt.xticks(rotation=45)\n",
    "\n",
    "plt.tight_layout()\n",
    "plt.show()\n"
   ]
  }
 ],
 "metadata": {
  "kernelspec": {
   "display_name": "Python 3",
   "language": "python",
   "name": "python3"
  },
  "language_info": {
   "name": "python",
   "version": "3.10.11"
  }
 },
 "nbformat": 4,
 "nbformat_minor": 2
}
