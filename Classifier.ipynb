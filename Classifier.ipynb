{
 "cells": [
  {
   "cell_type": "code",
   "execution_count": null,
   "metadata": {},
   "outputs": [],
   "source": [
    "import pandas as pd\n",
    "import numpy as np\n",
    "from sklearn.model_selection import train_test_split\n",
    "from sklearn.feature_extraction.text import TfidfVectorizer\n",
    "from sklearn.ensemble import AdaBoostClassifier\n",
    "from sklearn.metrics import accuracy_score, classification_report\n",
    "import nltk\n",
    "from nltk.corpus import stopwords\n",
    "from nltk.tokenize import word_tokenize\n",
    "from nltk.stem import WordNetLemmatizer\n",
    "\n",
    "from sklearn.model_selection import train_test_split\n",
    "from sklearn.feature_extraction.text import CountVectorizer\n",
    "from sklearn.tree import DecisionTreeClassifier\n",
    "from sklearn.metrics import accuracy_score, classification_report\n",
    "from sklearn.ensemble import GradientBoostingClassifier"
   ]
  },
  {
   "cell_type": "code",
   "execution_count": null,
   "metadata": {},
   "outputs": [],
   "source": [
    "train_df = pd.read_csv(\"data_train_preprocessed.csv\")\n",
    "test_df = pd.read_csv(\"data_test_preprocessed.csv\")\n",
    "# Fill NaN values with an empty string\n",
    "train_df['text'] = train_df['text'].fillna('')\n",
    "train_df['processed_text_alt'] = train_df['processed_text_alt'].fillna('')\n",
    "test_df['processed_text_alt'] = test_df['processed_text_alt'].fillna('')"
   ]
  },
  {
   "cell_type": "code",
   "execution_count": null,
   "metadata": {},
   "outputs": [],
   "source": [
    "# TF-IDF Vectorization\n",
    "vectorizer = TfidfVectorizer(max_features=5000)  # You can adjust max_features based on your dataset size\n",
    "X_train = vectorizer.fit_transform(train_df['processed_text_alt'])\n",
    "X_test = vectorizer.transform(test_df['processed_text_alt'])\n",
    "y_train = (train_df['binary_labels'] == 1).astype(int)\n",
    "y_test = (test_df['binary_labels'] == 1).astype(int)"
   ]
  },
  {
   "cell_type": "code",
   "execution_count": null,
   "metadata": {},
   "outputs": [],
   "source": [
    "# AdaBoost Classifier\n",
    "adaboost_classifier = AdaBoostClassifier(n_estimators=50, random_state=42)\n",
    "adaboost_classifier.fit(X_train, y_train)"
   ]
  },
  {
   "cell_type": "code",
   "execution_count": null,
   "metadata": {},
   "outputs": [],
   "source": [
    "# Predictions\n",
    "y_pred_train = adaboost_classifier.predict(X_train)\n",
    "y_pred_test = adaboost_classifier.predict(X_test)\n",
    "\n",
    "# Evaluation\n",
    "train_accuracy = accuracy_score(y_train, y_pred_train)\n",
    "test_accuracy = accuracy_score(y_test, y_pred_test)\n",
    "\n",
    "print(f\"Training Accuracy: {train_accuracy}\")\n",
    "print(f\"Testing Accuracy: {test_accuracy}\")\n",
    "\n",
    "# Classification Report\n",
    "print(\"Classification Report on Test Set:\")\n",
    "print(classification_report(y_test, y_pred_test))"
   ]
  },
  {
   "cell_type": "markdown",
   "metadata": {},
   "source": [
    "# Decision Tree"
   ]
  },
  {
   "cell_type": "code",
   "execution_count": null,
   "metadata": {},
   "outputs": [],
   "source": [
    "train_tokens = [token for tokens_list in train_df['text'] for token in tokens_list]\n",
    "preprocessed_train_tokens = [token for tokens_list in train_df['processed_text_alt'] for token in tokens_list]\n",
    "\n",
    "vocabulary_size = len(set(train_tokens))\n",
    "vocabulary_size_preprocessed = len(set(preprocessed_train_tokens))\n",
    "\n",
    "print(f'Vocabulary Size Preprocessed: {vocabulary_size_preprocessed}')\n",
    "print(f'Vocabulary Size: {vocabulary_size}')\n",
    "\n",
    "# Split the dataset into training and validation sets\n",
    "train_df, val_df = train_test_split(train_df, test_size=0.2, random_state=42)"
   ]
  },
  {
   "cell_type": "code",
   "execution_count": null,
   "metadata": {},
   "outputs": [],
   "source": [
    "# Text vectorization using CountVectorizer\n",
    "vectorizer = CountVectorizer()\n",
    "X_train = vectorizer.fit_transform(train_df['processed_text_alt'])\n",
    "X_val = vectorizer.transform(val_df['processed_text_alt'])\n",
    "X_test = vectorizer.transform(test_df['processed_text_alt'])"
   ]
  },
  {
   "cell_type": "code",
   "execution_count": null,
   "metadata": {},
   "outputs": [],
   "source": [
    "# Labels\n",
    "y_train = (train_df['binary_labels'] == 1).astype(int)\n",
    "y_val = (val_df['binary_labels'] == 1).astype(int)\n",
    "y_test = (test_df['binary_labels'] == 1).astype(int)"
   ]
  },
  {
   "cell_type": "code",
   "execution_count": null,
   "metadata": {},
   "outputs": [],
   "source": [
    "# Hyperparameter tuning\n",
    "best_accuracy = 0\n",
    "best_model = None\n",
    "\n",
    "for max_depth in [None, 5, 10, 15]:\n",
    "    for min_samples_split in [2, 5, 10]:\n",
    "        for min_samples_leaf in [1, 2, 4]:\n",
    "            \n",
    "            # Decision tree\n",
    "            tree_classifier = DecisionTreeClassifier(max_depth=max_depth, min_samples_split=min_samples_split, min_samples_leaf=min_samples_leaf)\n",
    "            tree_classifier.fit(X_train, y_train)\n",
    "\n",
    "            # Evaluate on the validation set\n",
    "            val_predictions = tree_classifier.predict(X_val)\n",
    "            val_accuracy = accuracy_score(y_val, val_predictions)\n",
    "\n",
    "            # Check if the current configuration is the best so far\n",
    "            if val_accuracy > best_accuracy:\n",
    "                best_accuracy = val_accuracy\n",
    "                best_model = tree_classifier\n",
    "\n",
    "print(f'Best Max Depth: {best_model.max_depth}')\n",
    "print(f'Best Min Samples Split: {best_model.min_samples_split}')\n",
    "print(f'Best Min Samples Leaf: {best_model.min_samples_leaf}')\n",
    "\n",
    "# Use the best model for evaluation on the test set\n",
    "test_predictions = best_model.predict(X_test)\n",
    "test_accuracy = accuracy_score(y_test, test_predictions)\n",
    "\n",
    "print(f'Best Validation Accuracy: {best_accuracy}')\n",
    "print(f'Test Accuracy with Best Model: {test_accuracy}')\n",
    "\n",
    "\n",
    "# Evaluate on the validation set and print classification report\n",
    "val_predictions = best_model.predict(X_val)\n",
    "print(\"Validation Classification Report: (Validation)\")\n",
    "print(classification_report(y_val, val_predictions))\n",
    "\n",
    "# Use the best model for evaluation on the test set and print classification report\n",
    "test_predictions = best_model.predict(X_test)\n",
    "test_accuracy = accuracy_score(y_test, test_predictions)\n",
    "print(f'Test Accuracy with Best Model: {test_accuracy}')\n",
    "print(\"Test Classification Report: (Test\")\n",
    "print(classification_report(y_test, test_predictions))\n"
   ]
  },
  {
   "cell_type": "markdown",
   "metadata": {},
   "source": [
    "# Gradient Boosting Classifier\n"
   ]
  },
  {
   "cell_type": "code",
   "execution_count": null,
   "metadata": {},
   "outputs": [],
   "source": [
    "# Gradient Boosting Classifier\n",
    "gbdt_classifier = GradientBoostingClassifier(n_estimators=100, learning_rate=0.1, max_depth=3, random_state=42)\n",
    "gbdt_classifier.fit(X_train, y_train)"
   ]
  },
  {
   "cell_type": "code",
   "execution_count": null,
   "metadata": {},
   "outputs": [],
   "source": [
    "# Predictions\n",
    "y_pred_train = gbdt_classifier.predict(X_train)\n",
    "y_pred_test = gbdt_classifier.predict(X_test)\n",
    "\n",
    "# Evaluation\n",
    "train_accuracy = accuracy_score(y_train, y_pred_train)\n",
    "test_accuracy = accuracy_score(y_test, y_pred_test)\n",
    "\n",
    "print(f\"Training Accuracy: {train_accuracy}\")\n",
    "print(f\"Testing Accuracy: {test_accuracy}\")\n",
    "\n",
    "# Classification Report\n",
    "print(\"Classification Report on Test Set:\")\n",
    "print(classification_report(y_test, y_pred_test))"
   ]
  }
 ],
 "metadata": {
  "kernelspec": {
   "display_name": "Python 3 (ipykernel)",
   "language": "python",
   "name": "python3"
  },
  "language_info": {
   "codemirror_mode": {
    "name": "ipython",
    "version": 3
   },
   "file_extension": ".py",
   "mimetype": "text/x-python",
   "name": "python",
   "nbconvert_exporter": "python",
   "pygments_lexer": "ipython3",
   "version": "3.11.4"
  }
 },
 "nbformat": 4,
 "nbformat_minor": 4
}
